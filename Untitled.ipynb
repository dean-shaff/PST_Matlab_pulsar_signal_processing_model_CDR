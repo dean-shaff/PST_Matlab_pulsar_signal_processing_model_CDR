{
 "cells": [
  {
   "cell_type": "code",
   "execution_count": 8,
   "metadata": {},
   "outputs": [],
   "source": [
    "class Rational:\n",
    "    \n",
    "    def __init__(self, numerator, denominator):\n",
    "        self._numerator = numerator \n",
    "        self._denominator = denominator \n",
    "        \n",
    "    def __float__(self):\n",
    "        return self._numerator / self._denominator \n",
    "    \n",
    "    @property \n",
    "    def numerator(self):\n",
    "        return self._numerator \n",
    "    \n",
    "    @property\n",
    "    def nu(self):\n",
    "        return self._numerator \n",
    "    \n",
    "    @property\n",
    "    def denominator(self):\n",
    "        return self._denominator\n",
    "    \n",
    "    @property\n",
    "    def de(self):\n",
    "        return self._denominator \n",
    "    \n",
    "    def normalize(self, n):\n",
    "        val = (self.de*n)/self.nu\n",
    "        if int(val) == val:\n",
    "            return int(val) \n",
    "        else:\n",
    "            raise ValueError(f\"Couldn't normalize {n}\")\n"
   ]
  },
  {
   "cell_type": "code",
   "execution_count": null,
   "metadata": {},
   "outputs": [],
   "source": [
    "import numpy as np\n",
    "\n",
    "class PFBChannelizer:\n",
    "    \n",
    "    def __init__(self, input_filename):\n",
    "        self.input_filename = input_filename\n",
    "        \n",
    "    def _load_input_data(self):\n",
    "        \n"
   ]
  }
 ],
 "metadata": {
  "kernelspec": {
   "display_name": "Python 3",
   "language": "python",
   "name": "python3"
  },
  "language_info": {
   "codemirror_mode": {
    "name": "ipython",
    "version": 3
   },
   "file_extension": ".py",
   "mimetype": "text/x-python",
   "name": "python",
   "nbconvert_exporter": "python",
   "pygments_lexer": "ipython3",
   "version": "3.6.7"
  }
 },
 "nbformat": 4,
 "nbformat_minor": 2
}

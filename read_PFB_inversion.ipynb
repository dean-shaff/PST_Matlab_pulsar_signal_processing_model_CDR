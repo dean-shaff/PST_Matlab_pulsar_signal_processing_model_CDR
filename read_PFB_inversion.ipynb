{
 "cells": [
  {
   "cell_type": "code",
   "execution_count": 4,
   "metadata": {},
   "outputs": [],
   "source": [
    "import numpy as np \n",
    "import matplotlib.pyplot as plt"
   ]
  },
  {
   "cell_type": "code",
   "execution_count": 38,
   "metadata": {},
   "outputs": [],
   "source": [
    "file_name = \"inverse.dump\"\n",
    "\n",
    "n_part = 89 \n",
    "n_pol = 2\n",
    "n_dim = 2\n",
    "\n",
    "arr = np.fromfile(file_name, dtype=np.float32)\n",
    "\n",
    "arr = arr.reshape((n_pol, n_part, -1, n_dim))\n",
    "arr = arr[:,:,:,0] + 1j*arr[:,:,:,1]\n",
    "\n",
    "# arr = arr.reshape((n_dim, -1, n_part, n_pol))\n",
    "# arr = arr[0,:,:,:] + 1j*arr[1,:,:,:]\n",
    "\n"
   ]
  },
  {
   "cell_type": "code",
   "execution_count": 41,
   "metadata": {},
   "outputs": [
    {
     "data": {
      "image/png": "[encoded data removed]",
      "text/plain": [
       "<Figure size 432x288 with 1 Axes>"
      ]
     },
     "metadata": {
      "needs_background": "light"
     },
     "output_type": "display_data"
    }
   ],
   "source": [
    "fig, ax = plt.subplots(1,1);\n",
    "\n",
    "# arr_mean = np.sum(arr, axis=1)\n",
    "\n",
    "# ax.plot(np.abs(arr_mean[1,:]))\n",
    "\n",
    "ax.plot(np.abs(arr[0,:,:]));\n"
   ]
  }
 ],
 "metadata": {
  "kernelspec": {
   "display_name": "Python 3",
   "language": "python",
   "name": "python3"
  },
  "language_info": {
   "codemirror_mode": {
    "name": "ipython",
    "version": 3
   },
   "file_extension": ".py",
   "mimetype": "text/x-python",
   "name": "python",
   "nbconvert_exporter": "python",
   "pygments_lexer": "ipython3",
   "version": "3.6.7"
  }
 },
 "nbformat": 4,
 "nbformat_minor": 2
}
